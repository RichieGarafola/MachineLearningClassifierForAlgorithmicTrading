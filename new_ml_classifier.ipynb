{
 "cells": [
  {
   "cell_type": "code",
   "execution_count": 1,
   "metadata": {},
   "outputs": [
    {
     "name": "stderr",
     "output_type": "stream",
     "text": [
      "you are using nologin method, data you access may be limited\n"
     ]
    }
   ],
   "source": [
    "# Imports\n",
    "import pandas as pd\n",
    "from pathlib import Path\n",
    "import numpy as np\n",
    "\n",
    "\n",
    "from tvDatafeed import TvDatafeed, Interval\n",
    "\n",
    "# Initiate trading view API\n",
    "tv=TvDatafeed()"
   ]
  },
  {
   "cell_type": "markdown",
   "metadata": {},
   "source": [
    "### Read the CSV file into Pandas DataFrame"
   ]
  },
  {
   "cell_type": "code",
   "execution_count": 2,
   "metadata": {},
   "outputs": [
    {
     "name": "stdin",
     "output_type": "stream",
     "text": [
      "Enter Stock Ticker TSLA\n"
     ]
    },
    {
     "data": {
      "text/html": [
       "<div>\n",
       "<style scoped>\n",
       "    .dataframe tbody tr th:only-of-type {\n",
       "        vertical-align: middle;\n",
       "    }\n",
       "\n",
       "    .dataframe tbody tr th {\n",
       "        vertical-align: top;\n",
       "    }\n",
       "\n",
       "    .dataframe thead th {\n",
       "        text-align: right;\n",
       "    }\n",
       "</style>\n",
       "<table border=\"1\" class=\"dataframe\">\n",
       "  <thead>\n",
       "    <tr style=\"text-align: right;\">\n",
       "      <th></th>\n",
       "      <th>open</th>\n",
       "      <th>high</th>\n",
       "      <th>low</th>\n",
       "      <th>close</th>\n",
       "      <th>volume</th>\n",
       "    </tr>\n",
       "    <tr>\n",
       "      <th>datetime</th>\n",
       "      <th></th>\n",
       "      <th></th>\n",
       "      <th></th>\n",
       "      <th></th>\n",
       "      <th></th>\n",
       "    </tr>\n",
       "  </thead>\n",
       "  <tbody>\n",
       "    <tr>\n",
       "      <th>2022-08-05 15:20:00</th>\n",
       "      <td>286.589713</td>\n",
       "      <td>286.726380</td>\n",
       "      <td>285.666381</td>\n",
       "      <td>286.056381</td>\n",
       "      <td>44862.0</td>\n",
       "    </tr>\n",
       "    <tr>\n",
       "      <th>2022-08-05 15:25:00</th>\n",
       "      <td>286.266380</td>\n",
       "      <td>287.233046</td>\n",
       "      <td>286.266380</td>\n",
       "      <td>287.233046</td>\n",
       "      <td>32658.0</td>\n",
       "    </tr>\n",
       "    <tr>\n",
       "      <th>2022-08-05 15:30:00</th>\n",
       "      <td>287.216379</td>\n",
       "      <td>287.216379</td>\n",
       "      <td>286.749713</td>\n",
       "      <td>287.033046</td>\n",
       "      <td>15126.0</td>\n",
       "    </tr>\n",
       "    <tr>\n",
       "      <th>2022-08-05 15:35:00</th>\n",
       "      <td>286.806380</td>\n",
       "      <td>286.956380</td>\n",
       "      <td>286.049714</td>\n",
       "      <td>286.049714</td>\n",
       "      <td>40320.0</td>\n",
       "    </tr>\n",
       "    <tr>\n",
       "      <th>2022-08-05 15:40:00</th>\n",
       "      <td>286.006381</td>\n",
       "      <td>286.779713</td>\n",
       "      <td>286.006381</td>\n",
       "      <td>286.779713</td>\n",
       "      <td>34701.0</td>\n",
       "    </tr>\n",
       "  </tbody>\n",
       "</table>\n",
       "</div>"
      ],
      "text/plain": [
       "                           open        high         low       close   volume\n",
       "datetime                                                                    \n",
       "2022-08-05 15:20:00  286.589713  286.726380  285.666381  286.056381  44862.0\n",
       "2022-08-05 15:25:00  286.266380  287.233046  286.266380  287.233046  32658.0\n",
       "2022-08-05 15:30:00  287.216379  287.216379  286.749713  287.033046  15126.0\n",
       "2022-08-05 15:35:00  286.806380  286.956380  286.049714  286.049714  40320.0\n",
       "2022-08-05 15:40:00  286.006381  286.779713  286.006381  286.779713  34701.0"
      ]
     },
     "execution_count": 2,
     "metadata": {},
     "output_type": "execute_result"
    }
   ],
   "source": [
    "# Import the OHLCV dataset into a Pandas Dataframe\n",
    "# trading_df = pd.read_csv(\n",
    "#     Path(\"../Resources/ohlcv.csv\"), \n",
    "#     index_col=\"date\", \n",
    "#     infer_datetime_format=True, \n",
    "#     parse_dates=True\n",
    "# )\n",
    "\n",
    "name=input(\"Enter Stock Ticker\").upper()\n",
    "trading_df=tv.get_hist(name, 'NASDAQ', interval=Interval.in_5_minute, n_bars=5000)\n",
    "trading_df = trading_df.drop(columns=[\"symbol\"])\n",
    "\n",
    "# Review the DataFrame\n",
    "trading_df.head()"
   ]
  },
  {
   "cell_type": "markdown",
   "metadata": {},
   "source": [
    "### Add a daily return values column to the DataFrame"
   ]
  },
  {
   "cell_type": "code",
   "execution_count": 3,
   "metadata": {},
   "outputs": [
    {
     "data": {
      "text/html": [
       "<div>\n",
       "<style scoped>\n",
       "    .dataframe tbody tr th:only-of-type {\n",
       "        vertical-align: middle;\n",
       "    }\n",
       "\n",
       "    .dataframe tbody tr th {\n",
       "        vertical-align: top;\n",
       "    }\n",
       "\n",
       "    .dataframe thead th {\n",
       "        text-align: right;\n",
       "    }\n",
       "</style>\n",
       "<table border=\"1\" class=\"dataframe\">\n",
       "  <thead>\n",
       "    <tr style=\"text-align: right;\">\n",
       "      <th></th>\n",
       "      <th>open</th>\n",
       "      <th>high</th>\n",
       "      <th>low</th>\n",
       "      <th>close</th>\n",
       "      <th>volume</th>\n",
       "      <th>actual_returns</th>\n",
       "    </tr>\n",
       "    <tr>\n",
       "      <th>datetime</th>\n",
       "      <th></th>\n",
       "      <th></th>\n",
       "      <th></th>\n",
       "      <th></th>\n",
       "      <th></th>\n",
       "      <th></th>\n",
       "    </tr>\n",
       "  </thead>\n",
       "  <tbody>\n",
       "    <tr>\n",
       "      <th>2022-08-05 15:25:00</th>\n",
       "      <td>286.266380</td>\n",
       "      <td>287.233046</td>\n",
       "      <td>286.266380</td>\n",
       "      <td>287.233046</td>\n",
       "      <td>32658.0</td>\n",
       "      <td>0.004113</td>\n",
       "    </tr>\n",
       "    <tr>\n",
       "      <th>2022-08-05 15:30:00</th>\n",
       "      <td>287.216379</td>\n",
       "      <td>287.216379</td>\n",
       "      <td>286.749713</td>\n",
       "      <td>287.033046</td>\n",
       "      <td>15126.0</td>\n",
       "      <td>-0.000696</td>\n",
       "    </tr>\n",
       "    <tr>\n",
       "      <th>2022-08-05 15:35:00</th>\n",
       "      <td>286.806380</td>\n",
       "      <td>286.956380</td>\n",
       "      <td>286.049714</td>\n",
       "      <td>286.049714</td>\n",
       "      <td>40320.0</td>\n",
       "      <td>-0.003426</td>\n",
       "    </tr>\n",
       "    <tr>\n",
       "      <th>2022-08-05 15:40:00</th>\n",
       "      <td>286.006381</td>\n",
       "      <td>286.779713</td>\n",
       "      <td>286.006381</td>\n",
       "      <td>286.779713</td>\n",
       "      <td>34701.0</td>\n",
       "      <td>0.002552</td>\n",
       "    </tr>\n",
       "    <tr>\n",
       "      <th>2022-08-05 15:45:00</th>\n",
       "      <td>286.763047</td>\n",
       "      <td>288.933044</td>\n",
       "      <td>286.763047</td>\n",
       "      <td>288.549711</td>\n",
       "      <td>66804.0</td>\n",
       "      <td>0.006172</td>\n",
       "    </tr>\n",
       "  </tbody>\n",
       "</table>\n",
       "</div>"
      ],
      "text/plain": [
       "                           open        high         low       close   volume  \\\n",
       "datetime                                                                       \n",
       "2022-08-05 15:25:00  286.266380  287.233046  286.266380  287.233046  32658.0   \n",
       "2022-08-05 15:30:00  287.216379  287.216379  286.749713  287.033046  15126.0   \n",
       "2022-08-05 15:35:00  286.806380  286.956380  286.049714  286.049714  40320.0   \n",
       "2022-08-05 15:40:00  286.006381  286.779713  286.006381  286.779713  34701.0   \n",
       "2022-08-05 15:45:00  286.763047  288.933044  286.763047  288.549711  66804.0   \n",
       "\n",
       "                     actual_returns  \n",
       "datetime                             \n",
       "2022-08-05 15:25:00        0.004113  \n",
       "2022-08-05 15:30:00       -0.000696  \n",
       "2022-08-05 15:35:00       -0.003426  \n",
       "2022-08-05 15:40:00        0.002552  \n",
       "2022-08-05 15:45:00        0.006172  "
      ]
     },
     "metadata": {},
     "output_type": "display_data"
    },
    {
     "data": {
      "text/html": [
       "<div>\n",
       "<style scoped>\n",
       "    .dataframe tbody tr th:only-of-type {\n",
       "        vertical-align: middle;\n",
       "    }\n",
       "\n",
       "    .dataframe tbody tr th {\n",
       "        vertical-align: top;\n",
       "    }\n",
       "\n",
       "    .dataframe thead th {\n",
       "        text-align: right;\n",
       "    }\n",
       "</style>\n",
       "<table border=\"1\" class=\"dataframe\">\n",
       "  <thead>\n",
       "    <tr style=\"text-align: right;\">\n",
       "      <th></th>\n",
       "      <th>open</th>\n",
       "      <th>high</th>\n",
       "      <th>low</th>\n",
       "      <th>close</th>\n",
       "      <th>volume</th>\n",
       "      <th>actual_returns</th>\n",
       "    </tr>\n",
       "    <tr>\n",
       "      <th>datetime</th>\n",
       "      <th></th>\n",
       "      <th></th>\n",
       "      <th></th>\n",
       "      <th></th>\n",
       "      <th></th>\n",
       "      <th></th>\n",
       "    </tr>\n",
       "  </thead>\n",
       "  <tbody>\n",
       "    <tr>\n",
       "      <th>2022-11-04 15:35:00</th>\n",
       "      <td>207.07</td>\n",
       "      <td>207.28</td>\n",
       "      <td>206.73</td>\n",
       "      <td>206.99</td>\n",
       "      <td>27913.0</td>\n",
       "      <td>-0.000241</td>\n",
       "    </tr>\n",
       "    <tr>\n",
       "      <th>2022-11-04 15:40:00</th>\n",
       "      <td>206.95</td>\n",
       "      <td>207.18</td>\n",
       "      <td>206.80</td>\n",
       "      <td>207.18</td>\n",
       "      <td>42319.0</td>\n",
       "      <td>0.000918</td>\n",
       "    </tr>\n",
       "    <tr>\n",
       "      <th>2022-11-04 15:45:00</th>\n",
       "      <td>207.17</td>\n",
       "      <td>207.24</td>\n",
       "      <td>206.53</td>\n",
       "      <td>206.53</td>\n",
       "      <td>44554.0</td>\n",
       "      <td>-0.003137</td>\n",
       "    </tr>\n",
       "    <tr>\n",
       "      <th>2022-11-04 15:50:00</th>\n",
       "      <td>206.61</td>\n",
       "      <td>206.86</td>\n",
       "      <td>206.13</td>\n",
       "      <td>206.42</td>\n",
       "      <td>79811.0</td>\n",
       "      <td>-0.000533</td>\n",
       "    </tr>\n",
       "    <tr>\n",
       "      <th>2022-11-04 15:55:00</th>\n",
       "      <td>206.43</td>\n",
       "      <td>207.58</td>\n",
       "      <td>206.40</td>\n",
       "      <td>207.37</td>\n",
       "      <td>141979.0</td>\n",
       "      <td>0.004602</td>\n",
       "    </tr>\n",
       "  </tbody>\n",
       "</table>\n",
       "</div>"
      ],
      "text/plain": [
       "                       open    high     low   close    volume  actual_returns\n",
       "datetime                                                                     \n",
       "2022-11-04 15:35:00  207.07  207.28  206.73  206.99   27913.0       -0.000241\n",
       "2022-11-04 15:40:00  206.95  207.18  206.80  207.18   42319.0        0.000918\n",
       "2022-11-04 15:45:00  207.17  207.24  206.53  206.53   44554.0       -0.003137\n",
       "2022-11-04 15:50:00  206.61  206.86  206.13  206.42   79811.0       -0.000533\n",
       "2022-11-04 15:55:00  206.43  207.58  206.40  207.37  141979.0        0.004602"
      ]
     },
     "metadata": {},
     "output_type": "display_data"
    }
   ],
   "source": [
    "# Calculate the daily returns using the closing prices and the pct_change function\n",
    "trading_df[\"actual_returns\"] = trading_df[\"close\"].pct_change()\n",
    "\n",
    "# Drop all NaN values from the DataFrame\n",
    "trading_df = trading_df.dropna()\n",
    "\n",
    "# Review the DataFrame\n",
    "display(trading_df.head())\n",
    "display(trading_df.tail())"
   ]
  },
  {
   "cell_type": "markdown",
   "metadata": {},
   "source": [
    "---\n",
    "\n",
    "### Generating the Features and Target Sets"
   ]
  },
  {
   "cell_type": "code",
   "execution_count": 4,
   "metadata": {},
   "outputs": [],
   "source": [
    "# Define a window size of 20\n",
    "short_window = 20\n",
    "\n",
    "# Create a simple moving average (SMA) using the short_window and assign this to a new columns called sma_fast\n",
    "trading_df[\"sma_fast\"] = trading_df[\"close\"].rolling(window=short_window).mean()"
   ]
  },
  {
   "cell_type": "code",
   "execution_count": 5,
   "metadata": {},
   "outputs": [],
   "source": [
    "# Define a window size of 200\n",
    "long_window = 200\n",
    "\n",
    "# Create a simple moving average (SMA) using the long_window and assign this to a new columns called sma_slow\n",
    "trading_df[\"sma_slow\"] = trading_df[\"close\"].rolling(window=long_window).mean()"
   ]
  },
  {
   "cell_type": "code",
   "execution_count": 6,
   "metadata": {},
   "outputs": [],
   "source": [
    "# Drop the NaNs using dropna()\n",
    "trading_df = trading_df.dropna()"
   ]
  },
  {
   "cell_type": "markdown",
   "metadata": {},
   "source": [
    "#### Create the features set"
   ]
  },
  {
   "cell_type": "code",
   "execution_count": 7,
   "metadata": {},
   "outputs": [
    {
     "data": {
      "text/html": [
       "<div>\n",
       "<style scoped>\n",
       "    .dataframe tbody tr th:only-of-type {\n",
       "        vertical-align: middle;\n",
       "    }\n",
       "\n",
       "    .dataframe tbody tr th {\n",
       "        vertical-align: top;\n",
       "    }\n",
       "\n",
       "    .dataframe thead th {\n",
       "        text-align: right;\n",
       "    }\n",
       "</style>\n",
       "<table border=\"1\" class=\"dataframe\">\n",
       "  <thead>\n",
       "    <tr style=\"text-align: right;\">\n",
       "      <th></th>\n",
       "      <th>sma_fast</th>\n",
       "      <th>sma_slow</th>\n",
       "    </tr>\n",
       "    <tr>\n",
       "      <th>datetime</th>\n",
       "      <th></th>\n",
       "      <th></th>\n",
       "    </tr>\n",
       "  </thead>\n",
       "  <tbody>\n",
       "    <tr>\n",
       "      <th>2022-08-10 12:30:00</th>\n",
       "      <td>290.159710</td>\n",
       "      <td>290.239010</td>\n",
       "    </tr>\n",
       "    <tr>\n",
       "      <th>2022-08-10 12:35:00</th>\n",
       "      <td>290.173043</td>\n",
       "      <td>290.253843</td>\n",
       "    </tr>\n",
       "    <tr>\n",
       "      <th>2022-08-10 12:40:00</th>\n",
       "      <td>290.120377</td>\n",
       "      <td>290.272693</td>\n",
       "    </tr>\n",
       "    <tr>\n",
       "      <th>2022-08-10 12:45:00</th>\n",
       "      <td>290.107710</td>\n",
       "      <td>290.292793</td>\n",
       "    </tr>\n",
       "    <tr>\n",
       "      <th>2022-08-10 12:50:00</th>\n",
       "      <td>290.155543</td>\n",
       "      <td>290.313893</td>\n",
       "    </tr>\n",
       "  </tbody>\n",
       "</table>\n",
       "</div>"
      ],
      "text/plain": [
       "                       sma_fast    sma_slow\n",
       "datetime                                   \n",
       "2022-08-10 12:30:00  290.159710  290.239010\n",
       "2022-08-10 12:35:00  290.173043  290.253843\n",
       "2022-08-10 12:40:00  290.120377  290.272693\n",
       "2022-08-10 12:45:00  290.107710  290.292793\n",
       "2022-08-10 12:50:00  290.155543  290.313893"
      ]
     },
     "metadata": {},
     "output_type": "display_data"
    },
    {
     "data": {
      "text/html": [
       "<div>\n",
       "<style scoped>\n",
       "    .dataframe tbody tr th:only-of-type {\n",
       "        vertical-align: middle;\n",
       "    }\n",
       "\n",
       "    .dataframe tbody tr th {\n",
       "        vertical-align: top;\n",
       "    }\n",
       "\n",
       "    .dataframe thead th {\n",
       "        text-align: right;\n",
       "    }\n",
       "</style>\n",
       "<table border=\"1\" class=\"dataframe\">\n",
       "  <thead>\n",
       "    <tr style=\"text-align: right;\">\n",
       "      <th></th>\n",
       "      <th>sma_fast</th>\n",
       "      <th>sma_slow</th>\n",
       "    </tr>\n",
       "    <tr>\n",
       "      <th>datetime</th>\n",
       "      <th></th>\n",
       "      <th></th>\n",
       "    </tr>\n",
       "  </thead>\n",
       "  <tbody>\n",
       "    <tr>\n",
       "      <th>2022-11-04 15:35:00</th>\n",
       "      <td>206.1020</td>\n",
       "      <td>215.81965</td>\n",
       "    </tr>\n",
       "    <tr>\n",
       "      <th>2022-11-04 15:40:00</th>\n",
       "      <td>206.2845</td>\n",
       "      <td>215.73690</td>\n",
       "    </tr>\n",
       "    <tr>\n",
       "      <th>2022-11-04 15:45:00</th>\n",
       "      <td>206.4475</td>\n",
       "      <td>215.65255</td>\n",
       "    </tr>\n",
       "    <tr>\n",
       "      <th>2022-11-04 15:50:00</th>\n",
       "      <td>206.5705</td>\n",
       "      <td>215.56880</td>\n",
       "    </tr>\n",
       "    <tr>\n",
       "      <th>2022-11-04 15:55:00</th>\n",
       "      <td>206.6605</td>\n",
       "      <td>215.48995</td>\n",
       "    </tr>\n",
       "  </tbody>\n",
       "</table>\n",
       "</div>"
      ],
      "text/plain": [
       "                     sma_fast   sma_slow\n",
       "datetime                                \n",
       "2022-11-04 15:35:00  206.1020  215.81965\n",
       "2022-11-04 15:40:00  206.2845  215.73690\n",
       "2022-11-04 15:45:00  206.4475  215.65255\n",
       "2022-11-04 15:50:00  206.5705  215.56880\n",
       "2022-11-04 15:55:00  206.6605  215.48995"
      ]
     },
     "metadata": {},
     "output_type": "display_data"
    }
   ],
   "source": [
    "# Assign a copy of the sma_fast and sma_slow columns to a new DataFrame called X\n",
    "X = trading_df[[\"sma_fast\", \"sma_slow\"]].copy()\n",
    "\n",
    "# Display sample data\n",
    "display(X.head())\n",
    "display(X.tail())"
   ]
  },
  {
   "cell_type": "markdown",
   "metadata": {},
   "source": [
    "#### Create the target set"
   ]
  },
  {
   "cell_type": "code",
   "execution_count": 8,
   "metadata": {},
   "outputs": [],
   "source": [
    "# Create a new column in the trading_df called signal setting its value to zero.\n",
    "trading_df[\"signal\"] = 0.0"
   ]
  },
  {
   "cell_type": "code",
   "execution_count": 9,
   "metadata": {},
   "outputs": [],
   "source": [
    "# Create the signal to buy\n",
    "trading_df.loc[(trading_df[\"actual_returns\"] >= 0), \"signal\"] = 1"
   ]
  },
  {
   "cell_type": "code",
   "execution_count": 10,
   "metadata": {},
   "outputs": [],
   "source": [
    "# Create the signal to sell\n",
    "trading_df.loc[(trading_df[\"actual_returns\"] < 0), \"signal\"] = -1"
   ]
  },
  {
   "cell_type": "code",
   "execution_count": 11,
   "metadata": {},
   "outputs": [],
   "source": [
    "# Copy the new signal column to a new Series called y.\n",
    "y = trading_df[\"signal\"].copy()"
   ]
  },
  {
   "cell_type": "markdown",
   "metadata": {},
   "source": [
    "---\n",
    "\n",
    "### Split the Data Into Training and Testing Datasets"
   ]
  },
  {
   "cell_type": "markdown",
   "metadata": {},
   "source": [
    "#### Creating the Training Datasets"
   ]
  },
  {
   "cell_type": "code",
   "execution_count": 12,
   "metadata": {},
   "outputs": [],
   "source": [
    "# Imports \n",
    "from pandas.tseries.offsets import DateOffset"
   ]
  },
  {
   "cell_type": "code",
   "execution_count": 13,
   "metadata": {},
   "outputs": [
    {
     "name": "stdout",
     "output_type": "stream",
     "text": [
      "2022-08-10 12:30:00\n"
     ]
    }
   ],
   "source": [
    "# Select the start of the training period\n",
    "training_begin = X.index.min()\n",
    "\n",
    "# Display the training begin date\n",
    "print(training_begin)"
   ]
  },
  {
   "cell_type": "code",
   "execution_count": 14,
   "metadata": {},
   "outputs": [
    {
     "name": "stdout",
     "output_type": "stream",
     "text": [
      "2022-09-10 12:30:00\n"
     ]
    }
   ],
   "source": [
    "# Select the ending period for the training data with an offset of 3 months\n",
    "training_end = X.index.min() + DateOffset(months=1)\n",
    "\n",
    "# Display the training end date\n",
    "print(training_end)"
   ]
  },
  {
   "cell_type": "code",
   "execution_count": 15,
   "metadata": {},
   "outputs": [
    {
     "data": {
      "text/html": [
       "<div>\n",
       "<style scoped>\n",
       "    .dataframe tbody tr th:only-of-type {\n",
       "        vertical-align: middle;\n",
       "    }\n",
       "\n",
       "    .dataframe tbody tr th {\n",
       "        vertical-align: top;\n",
       "    }\n",
       "\n",
       "    .dataframe thead th {\n",
       "        text-align: right;\n",
       "    }\n",
       "</style>\n",
       "<table border=\"1\" class=\"dataframe\">\n",
       "  <thead>\n",
       "    <tr style=\"text-align: right;\">\n",
       "      <th></th>\n",
       "      <th>sma_fast</th>\n",
       "      <th>sma_slow</th>\n",
       "    </tr>\n",
       "    <tr>\n",
       "      <th>datetime</th>\n",
       "      <th></th>\n",
       "      <th></th>\n",
       "    </tr>\n",
       "  </thead>\n",
       "  <tbody>\n",
       "    <tr>\n",
       "      <th>2022-08-10 12:30:00</th>\n",
       "      <td>290.159710</td>\n",
       "      <td>290.239010</td>\n",
       "    </tr>\n",
       "    <tr>\n",
       "      <th>2022-08-10 12:35:00</th>\n",
       "      <td>290.173043</td>\n",
       "      <td>290.253843</td>\n",
       "    </tr>\n",
       "    <tr>\n",
       "      <th>2022-08-10 12:40:00</th>\n",
       "      <td>290.120377</td>\n",
       "      <td>290.272693</td>\n",
       "    </tr>\n",
       "    <tr>\n",
       "      <th>2022-08-10 12:45:00</th>\n",
       "      <td>290.107710</td>\n",
       "      <td>290.292793</td>\n",
       "    </tr>\n",
       "    <tr>\n",
       "      <th>2022-08-10 12:50:00</th>\n",
       "      <td>290.155543</td>\n",
       "      <td>290.313893</td>\n",
       "    </tr>\n",
       "  </tbody>\n",
       "</table>\n",
       "</div>"
      ],
      "text/plain": [
       "                       sma_fast    sma_slow\n",
       "datetime                                   \n",
       "2022-08-10 12:30:00  290.159710  290.239010\n",
       "2022-08-10 12:35:00  290.173043  290.253843\n",
       "2022-08-10 12:40:00  290.120377  290.272693\n",
       "2022-08-10 12:45:00  290.107710  290.292793\n",
       "2022-08-10 12:50:00  290.155543  290.313893"
      ]
     },
     "execution_count": 15,
     "metadata": {},
     "output_type": "execute_result"
    }
   ],
   "source": [
    "# Generate the X_train and y_train DataFrames\n",
    "X_train = X.loc[training_begin:training_end]\n",
    "y_train = y.loc[training_begin:training_end]\n",
    "\n",
    "# Display sample data\n",
    "X_train.head()"
   ]
  },
  {
   "cell_type": "markdown",
   "metadata": {},
   "source": [
    "#### Creating the Testing Datasets"
   ]
  },
  {
   "cell_type": "code",
   "execution_count": 16,
   "metadata": {},
   "outputs": [
    {
     "data": {
      "text/html": [
       "<div>\n",
       "<style scoped>\n",
       "    .dataframe tbody tr th:only-of-type {\n",
       "        vertical-align: middle;\n",
       "    }\n",
       "\n",
       "    .dataframe tbody tr th {\n",
       "        vertical-align: top;\n",
       "    }\n",
       "\n",
       "    .dataframe thead th {\n",
       "        text-align: right;\n",
       "    }\n",
       "</style>\n",
       "<table border=\"1\" class=\"dataframe\">\n",
       "  <thead>\n",
       "    <tr style=\"text-align: right;\">\n",
       "      <th></th>\n",
       "      <th>sma_fast</th>\n",
       "      <th>sma_slow</th>\n",
       "    </tr>\n",
       "    <tr>\n",
       "      <th>datetime</th>\n",
       "      <th></th>\n",
       "      <th></th>\n",
       "    </tr>\n",
       "  </thead>\n",
       "  <tbody>\n",
       "    <tr>\n",
       "      <th>2022-09-12 09:30:00</th>\n",
       "      <td>299.3695</td>\n",
       "      <td>289.902575</td>\n",
       "    </tr>\n",
       "    <tr>\n",
       "      <th>2022-09-12 09:35:00</th>\n",
       "      <td>299.5130</td>\n",
       "      <td>290.025325</td>\n",
       "    </tr>\n",
       "    <tr>\n",
       "      <th>2022-09-12 09:40:00</th>\n",
       "      <td>299.7615</td>\n",
       "      <td>290.156875</td>\n",
       "    </tr>\n",
       "    <tr>\n",
       "      <th>2022-09-12 09:45:00</th>\n",
       "      <td>300.0360</td>\n",
       "      <td>290.289975</td>\n",
       "    </tr>\n",
       "    <tr>\n",
       "      <th>2022-09-12 09:50:00</th>\n",
       "      <td>300.3350</td>\n",
       "      <td>290.420825</td>\n",
       "    </tr>\n",
       "  </tbody>\n",
       "</table>\n",
       "</div>"
      ],
      "text/plain": [
       "                     sma_fast    sma_slow\n",
       "datetime                                 \n",
       "2022-09-12 09:30:00  299.3695  289.902575\n",
       "2022-09-12 09:35:00  299.5130  290.025325\n",
       "2022-09-12 09:40:00  299.7615  290.156875\n",
       "2022-09-12 09:45:00  300.0360  290.289975\n",
       "2022-09-12 09:50:00  300.3350  290.420825"
      ]
     },
     "execution_count": 16,
     "metadata": {},
     "output_type": "execute_result"
    }
   ],
   "source": [
    "# Generate the X_test and y_test DataFrames\n",
    "X_test = X.loc[training_end:]\n",
    "y_test = y.loc[training_end:]\n",
    "\n",
    "# Display sample data\n",
    "X_test.head()"
   ]
  },
  {
   "cell_type": "markdown",
   "metadata": {},
   "source": [
    "#### Standardizing the Data"
   ]
  },
  {
   "cell_type": "code",
   "execution_count": 17,
   "metadata": {},
   "outputs": [],
   "source": [
    "# Imports\n",
    "from sklearn.preprocessing import StandardScaler"
   ]
  },
  {
   "cell_type": "code",
   "execution_count": 18,
   "metadata": {},
   "outputs": [],
   "source": [
    "# Create a StandardScaler instance\n",
    "scaler = StandardScaler()\n",
    " \n",
    "# Apply the scaler model to fit the X-train data\n",
    "X_scaler = scaler.fit(X_train)\n",
    " \n",
    "# Transform the X_train and X_test DataFrames using the X_scaler\n",
    "X_train_scaled = X_scaler.transform(X_train)\n",
    "X_test_scaled = X_scaler.transform(X_test)"
   ]
  },
  {
   "cell_type": "markdown",
   "metadata": {},
   "source": [
    "---\n",
    "\n",
    "### Incorporate the SVM Machine Learning Into the Trading Strategy"
   ]
  },
  {
   "cell_type": "code",
   "execution_count": 19,
   "metadata": {},
   "outputs": [],
   "source": [
    "# Imports\n",
    "from sklearn import svm\n",
    "from sklearn.metrics import classification_report"
   ]
  },
  {
   "cell_type": "code",
   "execution_count": 20,
   "metadata": {},
   "outputs": [
    {
     "data": {
      "text/plain": [
       "array([-1., -1., -1., -1., -1., -1., -1., -1., -1., -1.])"
      ]
     },
     "execution_count": 20,
     "metadata": {},
     "output_type": "execute_result"
    }
   ],
   "source": [
    "# Create the classifier model\n",
    "svm_model = svm.SVC()\n",
    " \n",
    "# Fit the model to the data using X_train_scaled and y_train\n",
    "svm_model = svm_model.fit(X_train_scaled, y_train)\n",
    "\n",
    "# Use the trained model to predict the trading signals for the training data\n",
    "training_signal_predictions = svm_model.predict(X_train_scaled)\n",
    "\n",
    "# Display the sample predictions\n",
    "training_signal_predictions[:10]"
   ]
  },
  {
   "cell_type": "code",
   "execution_count": 21,
   "metadata": {},
   "outputs": [
    {
     "name": "stdout",
     "output_type": "stream",
     "text": [
      "              precision    recall  f1-score   support\n",
      "\n",
      "        -1.0       0.52      0.78      0.62       848\n",
      "         1.0       0.53      0.25      0.34       832\n",
      "\n",
      "    accuracy                           0.52      1680\n",
      "   macro avg       0.52      0.52      0.48      1680\n",
      "weighted avg       0.52      0.52      0.48      1680\n",
      "\n"
     ]
    }
   ],
   "source": [
    "# Evaluate the model using a classification report\n",
    "training_report = classification_report(y_train, training_signal_predictions)\n",
    "print(training_report)"
   ]
  },
  {
   "cell_type": "code",
   "execution_count": 22,
   "metadata": {},
   "outputs": [
    {
     "data": {
      "text/plain": [
       "-1.0    1287\n",
       " 1.0     393\n",
       "dtype: int64"
      ]
     },
     "execution_count": 22,
     "metadata": {},
     "output_type": "execute_result"
    }
   ],
   "source": [
    "pd.DataFrame([training_signal_predictions]).T.value_counts()"
   ]
  },
  {
   "cell_type": "markdown",
   "metadata": {},
   "source": [
    "---\n",
    "\n",
    "### Backtesting a Machine Learning Trading Algorithm"
   ]
  },
  {
   "cell_type": "code",
   "execution_count": 23,
   "metadata": {},
   "outputs": [],
   "source": [
    "# Use the trained model to predict the trading signals for the testing data.\n",
    "testing_signal_predictions = svm_model.predict(X_test_scaled)"
   ]
  },
  {
   "cell_type": "code",
   "execution_count": 24,
   "metadata": {},
   "outputs": [
    {
     "name": "stdout",
     "output_type": "stream",
     "text": [
      "              precision    recall  f1-score   support\n",
      "\n",
      "        -1.0       0.49      0.91      0.64      1536\n",
      "         1.0       0.47      0.08      0.13      1584\n",
      "\n",
      "    accuracy                           0.49      3120\n",
      "   macro avg       0.48      0.49      0.39      3120\n",
      "weighted avg       0.48      0.49      0.38      3120\n",
      "\n"
     ]
    }
   ],
   "source": [
    "# Evaluate the model's ability to predict the trading signal for the testing data\n",
    "svm_testing_report = classification_report(y_test, testing_signal_predictions)\n",
    "print(svm_testing_report)"
   ]
  },
  {
   "cell_type": "code",
   "execution_count": 25,
   "metadata": {},
   "outputs": [
    {
     "data": {
      "text/html": [
       "<div>\n",
       "<style scoped>\n",
       "    .dataframe tbody tr th:only-of-type {\n",
       "        vertical-align: middle;\n",
       "    }\n",
       "\n",
       "    .dataframe tbody tr th {\n",
       "        vertical-align: top;\n",
       "    }\n",
       "\n",
       "    .dataframe thead th {\n",
       "        text-align: right;\n",
       "    }\n",
       "</style>\n",
       "<table border=\"1\" class=\"dataframe\">\n",
       "  <thead>\n",
       "    <tr style=\"text-align: right;\">\n",
       "      <th></th>\n",
       "      <th>predicted_signal</th>\n",
       "      <th>actual_returns</th>\n",
       "      <th>trading_algorithm_returns</th>\n",
       "    </tr>\n",
       "    <tr>\n",
       "      <th>datetime</th>\n",
       "      <th></th>\n",
       "      <th></th>\n",
       "      <th></th>\n",
       "    </tr>\n",
       "  </thead>\n",
       "  <tbody>\n",
       "    <tr>\n",
       "      <th>2022-09-12 09:30:00</th>\n",
       "      <td>1.0</td>\n",
       "      <td>0.011577</td>\n",
       "      <td>0.011577</td>\n",
       "    </tr>\n",
       "    <tr>\n",
       "      <th>2022-09-12 09:35:00</th>\n",
       "      <td>1.0</td>\n",
       "      <td>-0.003166</td>\n",
       "      <td>-0.003166</td>\n",
       "    </tr>\n",
       "    <tr>\n",
       "      <th>2022-09-12 09:40:00</th>\n",
       "      <td>1.0</td>\n",
       "      <td>0.006551</td>\n",
       "      <td>0.006551</td>\n",
       "    </tr>\n",
       "    <tr>\n",
       "      <th>2022-09-12 09:45:00</th>\n",
       "      <td>1.0</td>\n",
       "      <td>0.001413</td>\n",
       "      <td>0.001413</td>\n",
       "    </tr>\n",
       "    <tr>\n",
       "      <th>2022-09-12 09:50:00</th>\n",
       "      <td>1.0</td>\n",
       "      <td>0.000788</td>\n",
       "      <td>0.000788</td>\n",
       "    </tr>\n",
       "  </tbody>\n",
       "</table>\n",
       "</div>"
      ],
      "text/plain": [
       "                     predicted_signal  actual_returns  \\\n",
       "datetime                                                \n",
       "2022-09-12 09:30:00               1.0        0.011577   \n",
       "2022-09-12 09:35:00               1.0       -0.003166   \n",
       "2022-09-12 09:40:00               1.0        0.006551   \n",
       "2022-09-12 09:45:00               1.0        0.001413   \n",
       "2022-09-12 09:50:00               1.0        0.000788   \n",
       "\n",
       "                     trading_algorithm_returns  \n",
       "datetime                                        \n",
       "2022-09-12 09:30:00                   0.011577  \n",
       "2022-09-12 09:35:00                  -0.003166  \n",
       "2022-09-12 09:40:00                   0.006551  \n",
       "2022-09-12 09:45:00                   0.001413  \n",
       "2022-09-12 09:50:00                   0.000788  "
      ]
     },
     "execution_count": 25,
     "metadata": {},
     "output_type": "execute_result"
    }
   ],
   "source": [
    "# Create a new empty predictions DataFrame using code provided below.\n",
    "predictions_df = pd.DataFrame(index=X_test.index)\n",
    "predictions_df[\"predicted_signal\"] = testing_signal_predictions\n",
    "predictions_df[\"actual_returns\"] = trading_df[\"actual_returns\"]\n",
    "predictions_df[\"trading_algorithm_returns\"] = predictions_df[\"actual_returns\"] * predictions_df[\"predicted_signal\"]\n",
    "predictions_df.head()"
   ]
  },
  {
   "cell_type": "code",
   "execution_count": 26,
   "metadata": {},
   "outputs": [
    {
     "data": {
      "text/plain": [
       "<AxesSubplot:xlabel='datetime'>"
      ]
     },
     "execution_count": 26,
     "metadata": {},
     "output_type": "execute_result"
    },
    {
     "data": {
      "image/png": "[encoded data removed]",
      "text/plain": [
       "<Figure size 432x288 with 1 Axes>"
      ]
     },
     "metadata": {
      "needs_background": "light"
     },
     "output_type": "display_data"
    }
   ],
   "source": [
    "# Calculate and plot the cumulative returns for the `actual_returns` and the `trading_algorithm_returns`\n",
    "(1 + predictions_df[[\"actual_returns\", \"trading_algorithm_returns\"]]).cumprod().plot()"
   ]
  },
  {
   "cell_type": "markdown",
   "metadata": {},
   "source": [
    "---\n",
    "\n",
    "# Add a New Machine Learning Model"
   ]
  },
  {
   "cell_type": "markdown",
   "metadata": {},
   "source": [
    "## Import the `LogisticRegression` model from scikit-learn.\n"
   ]
  },
  {
   "cell_type": "code",
   "execution_count": 27,
   "metadata": {},
   "outputs": [],
   "source": [
    "# Import LogisticRegression from sklearn\n",
    "from sklearn.linear_model import LogisticRegression"
   ]
  },
  {
   "cell_type": "code",
   "execution_count": 28,
   "metadata": {},
   "outputs": [],
   "source": [
    "# Create an instance of the LogisticRegression model\n",
    "logistic_regression_model = LogisticRegression()\n"
   ]
  },
  {
   "cell_type": "markdown",
   "metadata": {},
   "source": [
    "## Using the same training data that the SVM model used (`X_train_scaled` and `y_train`), fit the `LogisticRegression` model."
   ]
  },
  {
   "cell_type": "code",
   "execution_count": 29,
   "metadata": {},
   "outputs": [
    {
     "data": {
      "text/plain": [
       "LogisticRegression()"
      ]
     },
     "execution_count": 29,
     "metadata": {},
     "output_type": "execute_result"
    }
   ],
   "source": [
    "# Fit the LogisticRegression model\n",
    "logistic_regression_model.fit(X_train_scaled, y_train)\n"
   ]
  },
  {
   "cell_type": "markdown",
   "metadata": {},
   "source": [
    "## Use the trained model to predict the trading signals for the training data. Use the `classification_report` module to evaluate the model."
   ]
  },
  {
   "cell_type": "code",
   "execution_count": 30,
   "metadata": {},
   "outputs": [
    {
     "data": {
      "text/plain": [
       "array([-1., -1., -1., ..., -1., -1., -1.])"
      ]
     },
     "execution_count": 30,
     "metadata": {},
     "output_type": "execute_result"
    }
   ],
   "source": [
    "# Use the trained LogisticRegression model to predict the trading signals for the training data\n",
    "lr_training_signal_predictions =  logistic_regression_model.predict(X_train_scaled)\n",
    "\n",
    "# Display the predictions\n",
    "lr_training_signal_predictions\n"
   ]
  },
  {
   "cell_type": "code",
   "execution_count": 31,
   "metadata": {},
   "outputs": [
    {
     "name": "stdout",
     "output_type": "stream",
     "text": [
      "              precision    recall  f1-score   support\n",
      "\n",
      "        -1.0       0.51      0.69      0.59       848\n",
      "         1.0       0.52      0.34      0.41       832\n",
      "\n",
      "    accuracy                           0.51      1680\n",
      "   macro avg       0.52      0.51      0.50      1680\n",
      "weighted avg       0.52      0.51      0.50      1680\n",
      "\n"
     ]
    }
   ],
   "source": [
    "# Generate a classification report using the training data and the logistic regression model's predications\n",
    "lr_training_report = classification_report(y_train, lr_training_signal_predictions)\n",
    "\n",
    "# Review the classification report\n",
    "print(lr_training_report)\n"
   ]
  },
  {
   "cell_type": "markdown",
   "metadata": {},
   "source": [
    "## Backtest the `LogisticRegression` model using the testing data to evaluate its performance."
   ]
  },
  {
   "cell_type": "code",
   "execution_count": 32,
   "metadata": {},
   "outputs": [],
   "source": [
    "# Use the trained model to predict the trading signals for the testing data.\n",
    "lr_testing_signal_predictions = logistic_regression_model.predict(X_test_scaled)"
   ]
  },
  {
   "cell_type": "code",
   "execution_count": 33,
   "metadata": {},
   "outputs": [
    {
     "name": "stdout",
     "output_type": "stream",
     "text": [
      "              precision    recall  f1-score   support\n",
      "\n",
      "        -1.0       0.50      0.26      0.34      1536\n",
      "         1.0       0.51      0.75      0.61      1584\n",
      "\n",
      "    accuracy                           0.51      3120\n",
      "   macro avg       0.51      0.50      0.48      3120\n",
      "weighted avg       0.51      0.51      0.48      3120\n",
      "\n"
     ]
    }
   ],
   "source": [
    "# Generate a classification report using the testing data and the logistic regression model's predications\n",
    "lr_testing_report = classification_report(y_test, lr_testing_signal_predictions)\n",
    "\n",
    "# Review the testing classification report\n",
    "print(lr_testing_report)"
   ]
  },
  {
   "cell_type": "markdown",
   "metadata": {},
   "source": [
    "## Compare the performance of the logistic regression and SVM models using the classification reports generated with the testing data. "
   ]
  },
  {
   "cell_type": "code",
   "execution_count": 34,
   "metadata": {},
   "outputs": [
    {
     "name": "stdout",
     "output_type": "stream",
     "text": [
      "Logistic Regression Classification Report\n",
      "              precision    recall  f1-score   support\n",
      "\n",
      "        -1.0       0.50      0.26      0.34      1536\n",
      "         1.0       0.51      0.75      0.61      1584\n",
      "\n",
      "    accuracy                           0.51      3120\n",
      "   macro avg       0.51      0.50      0.48      3120\n",
      "weighted avg       0.51      0.51      0.48      3120\n",
      "\n"
     ]
    }
   ],
   "source": [
    "# Print the classification report for the SVM model using the test data\n",
    "print(\"Logistic Regression Classification Report\")\n",
    "print(lr_testing_report)\n"
   ]
  },
  {
   "cell_type": "code",
   "execution_count": 35,
   "metadata": {},
   "outputs": [
    {
     "name": "stdout",
     "output_type": "stream",
     "text": [
      "SVM Classification Report\n",
      "              precision    recall  f1-score   support\n",
      "\n",
      "        -1.0       0.49      0.91      0.64      1536\n",
      "         1.0       0.47      0.08      0.13      1584\n",
      "\n",
      "    accuracy                           0.49      3120\n",
      "   macro avg       0.48      0.49      0.39      3120\n",
      "weighted avg       0.48      0.49      0.38      3120\n",
      "\n"
     ]
    }
   ],
   "source": [
    "# Print the classification report for the SVM model using the test data\n",
    "print(\"SVM Classification Report\")\n",
    "print(svm_testing_report)\n"
   ]
  },
  {
   "cell_type": "markdown",
   "metadata": {},
   "source": [
    "### Answer the following question:"
   ]
  },
  {
   "cell_type": "markdown",
   "metadata": {},
   "source": [
    "**Question:** Did the `LogisticRegression` perform better than the `SVM`?\n",
    "\n",
    "**Answer:** Maybe. The logistic regression model performs a bit better than the SVM model since it has a higher accuracy score. However, the SVM model does a better job predicting profitable short opportunities, as evidenced by its higher recall score on the -1.0 class. Ultimately, which model is best may depend on which class we care most about predicting, as well as which has better overall economic returns compared to a long-only investment."
   ]
  },
  {
   "cell_type": "code",
   "execution_count": null,
   "metadata": {},
   "outputs": [],
   "source": []
  }
 ],
 "metadata": {
  "kernelspec": {
   "display_name": "Python 3 (ipykernel)",
   "language": "python",
   "name": "python3"
  },
  "language_info": {
   "codemirror_mode": {
    "name": "ipython",
    "version": 3
   },
   "file_extension": ".py",
   "mimetype": "text/x-python",
   "name": "python",
   "nbconvert_exporter": "python",
   "pygments_lexer": "ipython3",
   "version": "3.7.11"
  }
 },
 "nbformat": 4,
 "nbformat_minor": 4
}
