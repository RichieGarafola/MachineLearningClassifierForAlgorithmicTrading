{
 "cells": [
  {
   "cell_type": "code",
   "execution_count": 1,
   "metadata": {},
   "outputs": [
    {
     "name": "stderr",
     "output_type": "stream",
     "text": [
      "you are using nologin method, data you access may be limited\n"
     ]
    }
   ],
   "source": [
    "# Imports\n",
    "import pandas as pd\n",
    "from pathlib import Path\n",
    "import numpy as np\n",
    "\n",
    "\n",
    "from tvDatafeed import TvDatafeed, Interval\n",
    "\n",
    "# Initiate trading view API\n",
    "tv=TvDatafeed()"
   ]
  },
  {
   "cell_type": "markdown",
   "metadata": {},
   "source": [
    "### Read the CSV file into Pandas DataFrame"
   ]
  },
  {
   "cell_type": "code",
   "execution_count": 2,
   "metadata": {},
   "outputs": [
    {
     "name": "stdin",
     "output_type": "stream",
     "text": [
      "Enter Stock Ticker AMD\n"
     ]
    },
    {
     "data": {
      "text/html": [
       "<div>\n",
       "<style scoped>\n",
       "    .dataframe tbody tr th:only-of-type {\n",
       "        vertical-align: middle;\n",
       "    }\n",
       "\n",
       "    .dataframe tbody tr th {\n",
       "        vertical-align: top;\n",
       "    }\n",
       "\n",
       "    .dataframe thead th {\n",
       "        text-align: right;\n",
       "    }\n",
       "</style>\n",
       "<table border=\"1\" class=\"dataframe\">\n",
       "  <thead>\n",
       "    <tr style=\"text-align: right;\">\n",
       "      <th></th>\n",
       "      <th>open</th>\n",
       "      <th>high</th>\n",
       "      <th>low</th>\n",
       "      <th>close</th>\n",
       "      <th>volume</th>\n",
       "    </tr>\n",
       "    <tr>\n",
       "      <th>datetime</th>\n",
       "      <th></th>\n",
       "      <th></th>\n",
       "      <th></th>\n",
       "      <th></th>\n",
       "      <th></th>\n",
       "    </tr>\n",
       "  </thead>\n",
       "  <tbody>\n",
       "    <tr>\n",
       "      <th>2022-08-05 15:20:00</th>\n",
       "      <td>102.200</td>\n",
       "      <td>102.27</td>\n",
       "      <td>102.11</td>\n",
       "      <td>102.18</td>\n",
       "      <td>17284.0</td>\n",
       "    </tr>\n",
       "    <tr>\n",
       "      <th>2022-08-05 15:25:00</th>\n",
       "      <td>102.175</td>\n",
       "      <td>102.31</td>\n",
       "      <td>102.12</td>\n",
       "      <td>102.31</td>\n",
       "      <td>11882.0</td>\n",
       "    </tr>\n",
       "    <tr>\n",
       "      <th>2022-08-05 15:30:00</th>\n",
       "      <td>102.250</td>\n",
       "      <td>102.30</td>\n",
       "      <td>102.14</td>\n",
       "      <td>102.15</td>\n",
       "      <td>24854.0</td>\n",
       "    </tr>\n",
       "    <tr>\n",
       "      <th>2022-08-05 15:35:00</th>\n",
       "      <td>102.130</td>\n",
       "      <td>102.13</td>\n",
       "      <td>101.84</td>\n",
       "      <td>101.84</td>\n",
       "      <td>28902.0</td>\n",
       "    </tr>\n",
       "    <tr>\n",
       "      <th>2022-08-05 15:40:00</th>\n",
       "      <td>101.820</td>\n",
       "      <td>101.92</td>\n",
       "      <td>101.65</td>\n",
       "      <td>101.88</td>\n",
       "      <td>27396.0</td>\n",
       "    </tr>\n",
       "  </tbody>\n",
       "</table>\n",
       "</div>"
      ],
      "text/plain": [
       "                        open    high     low   close   volume\n",
       "datetime                                                     \n",
       "2022-08-05 15:20:00  102.200  102.27  102.11  102.18  17284.0\n",
       "2022-08-05 15:25:00  102.175  102.31  102.12  102.31  11882.0\n",
       "2022-08-05 15:30:00  102.250  102.30  102.14  102.15  24854.0\n",
       "2022-08-05 15:35:00  102.130  102.13  101.84  101.84  28902.0\n",
       "2022-08-05 15:40:00  101.820  101.92  101.65  101.88  27396.0"
      ]
     },
     "execution_count": 2,
     "metadata": {},
     "output_type": "execute_result"
    }
   ],
   "source": [
    "# Import the OHLCV dataset into a Pandas Dataframe\n",
    "\n",
    "name=input(\"Enter Stock Ticker\").upper()\n",
    "trading_df=tv.get_hist(name, 'NASDAQ', interval=Interval.in_5_minute, n_bars=5000)\n",
    "trading_df = trading_df.drop(columns=[\"symbol\"])\n",
    "\n",
    "# Review the DataFrame\n",
    "trading_df.head()"
   ]
  },
  {
   "cell_type": "markdown",
   "metadata": {},
   "source": [
    "### Add a daily return values column to the DataFrame"
   ]
  },
  {
   "cell_type": "code",
   "execution_count": 3,
   "metadata": {},
   "outputs": [
    {
     "data": {
      "text/html": [
       "<div>\n",
       "<style scoped>\n",
       "    .dataframe tbody tr th:only-of-type {\n",
       "        vertical-align: middle;\n",
       "    }\n",
       "\n",
       "    .dataframe tbody tr th {\n",
       "        vertical-align: top;\n",
       "    }\n",
       "\n",
       "    .dataframe thead th {\n",
       "        text-align: right;\n",
       "    }\n",
       "</style>\n",
       "<table border=\"1\" class=\"dataframe\">\n",
       "  <thead>\n",
       "    <tr style=\"text-align: right;\">\n",
       "      <th></th>\n",
       "      <th>open</th>\n",
       "      <th>high</th>\n",
       "      <th>low</th>\n",
       "      <th>close</th>\n",
       "      <th>volume</th>\n",
       "      <th>actual_returns</th>\n",
       "    </tr>\n",
       "    <tr>\n",
       "      <th>datetime</th>\n",
       "      <th></th>\n",
       "      <th></th>\n",
       "      <th></th>\n",
       "      <th></th>\n",
       "      <th></th>\n",
       "      <th></th>\n",
       "    </tr>\n",
       "  </thead>\n",
       "  <tbody>\n",
       "    <tr>\n",
       "      <th>2022-08-05 15:25:00</th>\n",
       "      <td>102.175</td>\n",
       "      <td>102.31</td>\n",
       "      <td>102.12</td>\n",
       "      <td>102.31</td>\n",
       "      <td>11882.0</td>\n",
       "      <td>0.001272</td>\n",
       "    </tr>\n",
       "    <tr>\n",
       "      <th>2022-08-05 15:30:00</th>\n",
       "      <td>102.250</td>\n",
       "      <td>102.30</td>\n",
       "      <td>102.14</td>\n",
       "      <td>102.15</td>\n",
       "      <td>24854.0</td>\n",
       "      <td>-0.001564</td>\n",
       "    </tr>\n",
       "    <tr>\n",
       "      <th>2022-08-05 15:35:00</th>\n",
       "      <td>102.130</td>\n",
       "      <td>102.13</td>\n",
       "      <td>101.84</td>\n",
       "      <td>101.84</td>\n",
       "      <td>28902.0</td>\n",
       "      <td>-0.003035</td>\n",
       "    </tr>\n",
       "    <tr>\n",
       "      <th>2022-08-05 15:40:00</th>\n",
       "      <td>101.820</td>\n",
       "      <td>101.92</td>\n",
       "      <td>101.65</td>\n",
       "      <td>101.88</td>\n",
       "      <td>27396.0</td>\n",
       "      <td>0.000393</td>\n",
       "    </tr>\n",
       "    <tr>\n",
       "      <th>2022-08-05 15:45:00</th>\n",
       "      <td>101.880</td>\n",
       "      <td>102.24</td>\n",
       "      <td>101.87</td>\n",
       "      <td>102.19</td>\n",
       "      <td>40907.0</td>\n",
       "      <td>0.003043</td>\n",
       "    </tr>\n",
       "  </tbody>\n",
       "</table>\n",
       "</div>"
      ],
      "text/plain": [
       "                        open    high     low   close   volume  actual_returns\n",
       "datetime                                                                     \n",
       "2022-08-05 15:25:00  102.175  102.31  102.12  102.31  11882.0        0.001272\n",
       "2022-08-05 15:30:00  102.250  102.30  102.14  102.15  24854.0       -0.001564\n",
       "2022-08-05 15:35:00  102.130  102.13  101.84  101.84  28902.0       -0.003035\n",
       "2022-08-05 15:40:00  101.820  101.92  101.65  101.88  27396.0        0.000393\n",
       "2022-08-05 15:45:00  101.880  102.24  101.87  102.19  40907.0        0.003043"
      ]
     },
     "metadata": {},
     "output_type": "display_data"
    },
    {
     "data": {
      "text/html": [
       "<div>\n",
       "<style scoped>\n",
       "    .dataframe tbody tr th:only-of-type {\n",
       "        vertical-align: middle;\n",
       "    }\n",
       "\n",
       "    .dataframe tbody tr th {\n",
       "        vertical-align: top;\n",
       "    }\n",
       "\n",
       "    .dataframe thead th {\n",
       "        text-align: right;\n",
       "    }\n",
       "</style>\n",
       "<table border=\"1\" class=\"dataframe\">\n",
       "  <thead>\n",
       "    <tr style=\"text-align: right;\">\n",
       "      <th></th>\n",
       "      <th>open</th>\n",
       "      <th>high</th>\n",
       "      <th>low</th>\n",
       "      <th>close</th>\n",
       "      <th>volume</th>\n",
       "      <th>actual_returns</th>\n",
       "    </tr>\n",
       "    <tr>\n",
       "      <th>datetime</th>\n",
       "      <th></th>\n",
       "      <th></th>\n",
       "      <th></th>\n",
       "      <th></th>\n",
       "      <th></th>\n",
       "      <th></th>\n",
       "    </tr>\n",
       "  </thead>\n",
       "  <tbody>\n",
       "    <tr>\n",
       "      <th>2022-11-04 15:35:00</th>\n",
       "      <td>62.17</td>\n",
       "      <td>62.190</td>\n",
       "      <td>61.945</td>\n",
       "      <td>62.01</td>\n",
       "      <td>29998.0</td>\n",
       "      <td>-0.002574</td>\n",
       "    </tr>\n",
       "    <tr>\n",
       "      <th>2022-11-04 15:40:00</th>\n",
       "      <td>62.00</td>\n",
       "      <td>62.060</td>\n",
       "      <td>61.850</td>\n",
       "      <td>62.06</td>\n",
       "      <td>31052.0</td>\n",
       "      <td>0.000806</td>\n",
       "    </tr>\n",
       "    <tr>\n",
       "      <th>2022-11-04 15:45:00</th>\n",
       "      <td>62.05</td>\n",
       "      <td>62.185</td>\n",
       "      <td>61.930</td>\n",
       "      <td>61.95</td>\n",
       "      <td>40546.0</td>\n",
       "      <td>-0.001772</td>\n",
       "    </tr>\n",
       "    <tr>\n",
       "      <th>2022-11-04 15:50:00</th>\n",
       "      <td>61.95</td>\n",
       "      <td>62.020</td>\n",
       "      <td>61.870</td>\n",
       "      <td>61.99</td>\n",
       "      <td>68524.0</td>\n",
       "      <td>0.000646</td>\n",
       "    </tr>\n",
       "    <tr>\n",
       "      <th>2022-11-04 15:55:00</th>\n",
       "      <td>61.99</td>\n",
       "      <td>62.250</td>\n",
       "      <td>61.990</td>\n",
       "      <td>62.25</td>\n",
       "      <td>125485.0</td>\n",
       "      <td>0.004194</td>\n",
       "    </tr>\n",
       "  </tbody>\n",
       "</table>\n",
       "</div>"
      ],
      "text/plain": [
       "                      open    high     low  close    volume  actual_returns\n",
       "datetime                                                                   \n",
       "2022-11-04 15:35:00  62.17  62.190  61.945  62.01   29998.0       -0.002574\n",
       "2022-11-04 15:40:00  62.00  62.060  61.850  62.06   31052.0        0.000806\n",
       "2022-11-04 15:45:00  62.05  62.185  61.930  61.95   40546.0       -0.001772\n",
       "2022-11-04 15:50:00  61.95  62.020  61.870  61.99   68524.0        0.000646\n",
       "2022-11-04 15:55:00  61.99  62.250  61.990  62.25  125485.0        0.004194"
      ]
     },
     "metadata": {},
     "output_type": "display_data"
    }
   ],
   "source": [
    "# Calculate the daily returns using the closing prices and the pct_change function\n",
    "trading_df[\"actual_returns\"] = trading_df[\"close\"].pct_change()\n",
    "\n",
    "# Drop all NaN values from the DataFrame\n",
    "trading_df = trading_df.dropna()\n",
    "\n",
    "# Review the DataFrame\n",
    "display(trading_df.head())\n",
    "display(trading_df.tail())"
   ]
  },
  {
   "cell_type": "markdown",
   "metadata": {},
   "source": [
    "---\n",
    "\n",
    "### Generating the Features and Target Sets"
   ]
  },
  {
   "cell_type": "code",
   "execution_count": 4,
   "metadata": {},
   "outputs": [],
   "source": [
    "# Define a window size of 20\n",
    "short_window = 20\n",
    "\n",
    "# Create a simple moving average (SMA) using the short_window and assign this to a new columns called sma_fast\n",
    "trading_df[\"sma_fast\"] = trading_df[\"close\"].rolling(window=short_window).mean()"
   ]
  },
  {
   "cell_type": "code",
   "execution_count": 5,
   "metadata": {},
   "outputs": [],
   "source": [
    "# Define a window size of 200\n",
    "long_window = 200\n",
    "\n",
    "# Create a simple moving average (SMA) using the long_window and assign this to a new columns called sma_slow\n",
    "trading_df[\"sma_slow\"] = trading_df[\"close\"].rolling(window=long_window).mean()"
   ]
  },
  {
   "cell_type": "code",
   "execution_count": 6,
   "metadata": {},
   "outputs": [],
   "source": [
    "# Drop the NaNs using dropna()\n",
    "trading_df = trading_df.dropna()"
   ]
  },
  {
   "cell_type": "markdown",
   "metadata": {},
   "source": [
    "#### Create the features set"
   ]
  },
  {
   "cell_type": "code",
   "execution_count": 7,
   "metadata": {},
   "outputs": [
    {
     "data": {
      "text/html": [
       "<div>\n",
       "<style scoped>\n",
       "    .dataframe tbody tr th:only-of-type {\n",
       "        vertical-align: middle;\n",
       "    }\n",
       "\n",
       "    .dataframe tbody tr th {\n",
       "        vertical-align: top;\n",
       "    }\n",
       "\n",
       "    .dataframe thead th {\n",
       "        text-align: right;\n",
       "    }\n",
       "</style>\n",
       "<table border=\"1\" class=\"dataframe\">\n",
       "  <thead>\n",
       "    <tr style=\"text-align: right;\">\n",
       "      <th></th>\n",
       "      <th>sma_fast</th>\n",
       "      <th>sma_slow</th>\n",
       "    </tr>\n",
       "    <tr>\n",
       "      <th>datetime</th>\n",
       "      <th></th>\n",
       "      <th></th>\n",
       "    </tr>\n",
       "  </thead>\n",
       "  <tbody>\n",
       "    <tr>\n",
       "      <th>2022-08-10 12:30:00</th>\n",
       "      <td>98.09075</td>\n",
       "      <td>97.764825</td>\n",
       "    </tr>\n",
       "    <tr>\n",
       "      <th>2022-08-10 12:35:00</th>\n",
       "      <td>98.12875</td>\n",
       "      <td>97.743725</td>\n",
       "    </tr>\n",
       "    <tr>\n",
       "      <th>2022-08-10 12:40:00</th>\n",
       "      <td>98.15025</td>\n",
       "      <td>97.723125</td>\n",
       "    </tr>\n",
       "    <tr>\n",
       "      <th>2022-08-10 12:45:00</th>\n",
       "      <td>98.17725</td>\n",
       "      <td>97.704125</td>\n",
       "    </tr>\n",
       "    <tr>\n",
       "      <th>2022-08-10 12:50:00</th>\n",
       "      <td>98.19125</td>\n",
       "      <td>97.684075</td>\n",
       "    </tr>\n",
       "  </tbody>\n",
       "</table>\n",
       "</div>"
      ],
      "text/plain": [
       "                     sma_fast   sma_slow\n",
       "datetime                                \n",
       "2022-08-10 12:30:00  98.09075  97.764825\n",
       "2022-08-10 12:35:00  98.12875  97.743725\n",
       "2022-08-10 12:40:00  98.15025  97.723125\n",
       "2022-08-10 12:45:00  98.17725  97.704125\n",
       "2022-08-10 12:50:00  98.19125  97.684075"
      ]
     },
     "metadata": {},
     "output_type": "display_data"
    },
    {
     "data": {
      "text/html": [
       "<div>\n",
       "<style scoped>\n",
       "    .dataframe tbody tr th:only-of-type {\n",
       "        vertical-align: middle;\n",
       "    }\n",
       "\n",
       "    .dataframe tbody tr th {\n",
       "        vertical-align: top;\n",
       "    }\n",
       "\n",
       "    .dataframe thead th {\n",
       "        text-align: right;\n",
       "    }\n",
       "</style>\n",
       "<table border=\"1\" class=\"dataframe\">\n",
       "  <thead>\n",
       "    <tr style=\"text-align: right;\">\n",
       "      <th></th>\n",
       "      <th>sma_fast</th>\n",
       "      <th>sma_slow</th>\n",
       "    </tr>\n",
       "    <tr>\n",
       "      <th>datetime</th>\n",
       "      <th></th>\n",
       "      <th></th>\n",
       "    </tr>\n",
       "  </thead>\n",
       "  <tbody>\n",
       "    <tr>\n",
       "      <th>2022-11-04 15:35:00</th>\n",
       "      <td>61.46775</td>\n",
       "      <td>61.019425</td>\n",
       "    </tr>\n",
       "    <tr>\n",
       "      <th>2022-11-04 15:40:00</th>\n",
       "      <td>61.52825</td>\n",
       "      <td>61.022975</td>\n",
       "    </tr>\n",
       "    <tr>\n",
       "      <th>2022-11-04 15:45:00</th>\n",
       "      <td>61.59325</td>\n",
       "      <td>61.026900</td>\n",
       "    </tr>\n",
       "    <tr>\n",
       "      <th>2022-11-04 15:50:00</th>\n",
       "      <td>61.65175</td>\n",
       "      <td>61.031100</td>\n",
       "    </tr>\n",
       "    <tr>\n",
       "      <th>2022-11-04 15:55:00</th>\n",
       "      <td>61.70800</td>\n",
       "      <td>61.037450</td>\n",
       "    </tr>\n",
       "  </tbody>\n",
       "</table>\n",
       "</div>"
      ],
      "text/plain": [
       "                     sma_fast   sma_slow\n",
       "datetime                                \n",
       "2022-11-04 15:35:00  61.46775  61.019425\n",
       "2022-11-04 15:40:00  61.52825  61.022975\n",
       "2022-11-04 15:45:00  61.59325  61.026900\n",
       "2022-11-04 15:50:00  61.65175  61.031100\n",
       "2022-11-04 15:55:00  61.70800  61.037450"
      ]
     },
     "metadata": {},
     "output_type": "display_data"
    }
   ],
   "source": [
    "# Assign a copy of the sma_fast and sma_slow columns to a new DataFrame called X\n",
    "X = trading_df[[\"sma_fast\", \"sma_slow\"]].copy()\n",
    "\n",
    "# Display sample data\n",
    "display(X.head())\n",
    "display(X.tail())"
   ]
  },
  {
   "cell_type": "markdown",
   "metadata": {},
   "source": [
    "#### Create the target set"
   ]
  },
  {
   "cell_type": "code",
   "execution_count": 8,
   "metadata": {},
   "outputs": [],
   "source": [
    "# Create a new column in the trading_df called signal setting its value to zero.\n",
    "trading_df[\"signal\"] = 0.0"
   ]
  },
  {
   "cell_type": "code",
   "execution_count": 9,
   "metadata": {},
   "outputs": [],
   "source": [
    "# Create the signal to buy\n",
    "trading_df.loc[(trading_df[\"actual_returns\"] >= 0), \"signal\"] = 1"
   ]
  },
  {
   "cell_type": "code",
   "execution_count": 10,
   "metadata": {},
   "outputs": [],
   "source": [
    "# Create the signal to sell\n",
    "trading_df.loc[(trading_df[\"actual_returns\"] < 0), \"signal\"] = -1"
   ]
  },
  {
   "cell_type": "code",
   "execution_count": 11,
   "metadata": {},
   "outputs": [],
   "source": [
    "# Copy the new signal column to a new Series called y.\n",
    "y = trading_df[\"signal\"].copy()"
   ]
  },
  {
   "cell_type": "markdown",
   "metadata": {},
   "source": [
    "---\n",
    "\n",
    "### Split the Data Into Training and Testing Datasets"
   ]
  },
  {
   "cell_type": "markdown",
   "metadata": {},
   "source": [
    "#### Creating the Training Datasets"
   ]
  },
  {
   "cell_type": "code",
   "execution_count": 12,
   "metadata": {},
   "outputs": [],
   "source": [
    "# Imports \n",
    "from pandas.tseries.offsets import DateOffset"
   ]
  },
  {
   "cell_type": "code",
   "execution_count": 13,
   "metadata": {},
   "outputs": [
    {
     "name": "stdout",
     "output_type": "stream",
     "text": [
      "2022-08-10 12:30:00\n"
     ]
    }
   ],
   "source": [
    "# Select the start of the training period\n",
    "training_begin = X.index.min()\n",
    "\n",
    "# Display the training begin date\n",
    "print(training_begin)"
   ]
  },
  {
   "cell_type": "code",
   "execution_count": 14,
   "metadata": {},
   "outputs": [
    {
     "name": "stdout",
     "output_type": "stream",
     "text": [
      "2022-09-10 12:30:00\n"
     ]
    }
   ],
   "source": [
    "# Select the ending period for the training data with an offset of 3 months\n",
    "training_end = X.index.min() + DateOffset(months=1)\n",
    "\n",
    "# Display the training end date\n",
    "print(training_end)"
   ]
  },
  {
   "cell_type": "code",
   "execution_count": 15,
   "metadata": {},
   "outputs": [
    {
     "data": {
      "text/html": [
       "<div>\n",
       "<style scoped>\n",
       "    .dataframe tbody tr th:only-of-type {\n",
       "        vertical-align: middle;\n",
       "    }\n",
       "\n",
       "    .dataframe tbody tr th {\n",
       "        vertical-align: top;\n",
       "    }\n",
       "\n",
       "    .dataframe thead th {\n",
       "        text-align: right;\n",
       "    }\n",
       "</style>\n",
       "<table border=\"1\" class=\"dataframe\">\n",
       "  <thead>\n",
       "    <tr style=\"text-align: right;\">\n",
       "      <th></th>\n",
       "      <th>sma_fast</th>\n",
       "      <th>sma_slow</th>\n",
       "    </tr>\n",
       "    <tr>\n",
       "      <th>datetime</th>\n",
       "      <th></th>\n",
       "      <th></th>\n",
       "    </tr>\n",
       "  </thead>\n",
       "  <tbody>\n",
       "    <tr>\n",
       "      <th>2022-08-10 12:30:00</th>\n",
       "      <td>98.09075</td>\n",
       "      <td>97.764825</td>\n",
       "    </tr>\n",
       "    <tr>\n",
       "      <th>2022-08-10 12:35:00</th>\n",
       "      <td>98.12875</td>\n",
       "      <td>97.743725</td>\n",
       "    </tr>\n",
       "    <tr>\n",
       "      <th>2022-08-10 12:40:00</th>\n",
       "      <td>98.15025</td>\n",
       "      <td>97.723125</td>\n",
       "    </tr>\n",
       "    <tr>\n",
       "      <th>2022-08-10 12:45:00</th>\n",
       "      <td>98.17725</td>\n",
       "      <td>97.704125</td>\n",
       "    </tr>\n",
       "    <tr>\n",
       "      <th>2022-08-10 12:50:00</th>\n",
       "      <td>98.19125</td>\n",
       "      <td>97.684075</td>\n",
       "    </tr>\n",
       "  </tbody>\n",
       "</table>\n",
       "</div>"
      ],
      "text/plain": [
       "                     sma_fast   sma_slow\n",
       "datetime                                \n",
       "2022-08-10 12:30:00  98.09075  97.764825\n",
       "2022-08-10 12:35:00  98.12875  97.743725\n",
       "2022-08-10 12:40:00  98.15025  97.723125\n",
       "2022-08-10 12:45:00  98.17725  97.704125\n",
       "2022-08-10 12:50:00  98.19125  97.684075"
      ]
     },
     "execution_count": 15,
     "metadata": {},
     "output_type": "execute_result"
    }
   ],
   "source": [
    "# Generate the X_train and y_train DataFrames\n",
    "X_train = X.loc[training_begin:training_end]\n",
    "y_train = y.loc[training_begin:training_end]\n",
    "\n",
    "# Display sample data\n",
    "X_train.head()"
   ]
  },
  {
   "cell_type": "markdown",
   "metadata": {},
   "source": [
    "#### Creating the Testing Datasets"
   ]
  },
  {
   "cell_type": "code",
   "execution_count": 16,
   "metadata": {},
   "outputs": [
    {
     "data": {
      "text/html": [
       "<div>\n",
       "<style scoped>\n",
       "    .dataframe tbody tr th:only-of-type {\n",
       "        vertical-align: middle;\n",
       "    }\n",
       "\n",
       "    .dataframe tbody tr th {\n",
       "        vertical-align: top;\n",
       "    }\n",
       "\n",
       "    .dataframe thead th {\n",
       "        text-align: right;\n",
       "    }\n",
       "</style>\n",
       "<table border=\"1\" class=\"dataframe\">\n",
       "  <thead>\n",
       "    <tr style=\"text-align: right;\">\n",
       "      <th></th>\n",
       "      <th>sma_fast</th>\n",
       "      <th>sma_slow</th>\n",
       "    </tr>\n",
       "    <tr>\n",
       "      <th>datetime</th>\n",
       "      <th></th>\n",
       "      <th></th>\n",
       "    </tr>\n",
       "  </thead>\n",
       "  <tbody>\n",
       "    <tr>\n",
       "      <th>2022-09-12 09:30:00</th>\n",
       "      <td>85.1555</td>\n",
       "      <td>82.629975</td>\n",
       "    </tr>\n",
       "    <tr>\n",
       "      <th>2022-09-12 09:35:00</th>\n",
       "      <td>85.1085</td>\n",
       "      <td>82.659825</td>\n",
       "    </tr>\n",
       "    <tr>\n",
       "      <th>2022-09-12 09:40:00</th>\n",
       "      <td>85.0700</td>\n",
       "      <td>82.689125</td>\n",
       "    </tr>\n",
       "    <tr>\n",
       "      <th>2022-09-12 09:45:00</th>\n",
       "      <td>85.0190</td>\n",
       "      <td>82.716425</td>\n",
       "    </tr>\n",
       "    <tr>\n",
       "      <th>2022-09-12 09:50:00</th>\n",
       "      <td>85.0015</td>\n",
       "      <td>82.745925</td>\n",
       "    </tr>\n",
       "  </tbody>\n",
       "</table>\n",
       "</div>"
      ],
      "text/plain": [
       "                     sma_fast   sma_slow\n",
       "datetime                                \n",
       "2022-09-12 09:30:00   85.1555  82.629975\n",
       "2022-09-12 09:35:00   85.1085  82.659825\n",
       "2022-09-12 09:40:00   85.0700  82.689125\n",
       "2022-09-12 09:45:00   85.0190  82.716425\n",
       "2022-09-12 09:50:00   85.0015  82.745925"
      ]
     },
     "execution_count": 16,
     "metadata": {},
     "output_type": "execute_result"
    }
   ],
   "source": [
    "# Generate the X_test and y_test DataFrames\n",
    "X_test = X.loc[training_end:]\n",
    "y_test = y.loc[training_end:]\n",
    "\n",
    "# Display sample data\n",
    "X_test.head()"
   ]
  },
  {
   "cell_type": "markdown",
   "metadata": {},
   "source": [
    "#### Standardizing the Data"
   ]
  },
  {
   "cell_type": "code",
   "execution_count": 17,
   "metadata": {},
   "outputs": [],
   "source": [
    "# Imports\n",
    "from sklearn.preprocessing import StandardScaler"
   ]
  },
  {
   "cell_type": "code",
   "execution_count": 18,
   "metadata": {},
   "outputs": [],
   "source": [
    "# Create a StandardScaler instance\n",
    "scaler = StandardScaler()\n",
    " \n",
    "# Apply the scaler model to fit the X-train data\n",
    "X_scaler = scaler.fit(X_train)\n",
    " \n",
    "# Transform the X_train and X_test DataFrames using the X_scaler\n",
    "X_train_scaled = X_scaler.transform(X_train)\n",
    "X_test_scaled = X_scaler.transform(X_test)"
   ]
  },
  {
   "cell_type": "markdown",
   "metadata": {},
   "source": [
    "---\n",
    "\n",
    "### Incorporate the SVM Machine Learning Into the Trading Strategy"
   ]
  },
  {
   "cell_type": "code",
   "execution_count": 19,
   "metadata": {},
   "outputs": [],
   "source": [
    "# Imports\n",
    "from sklearn import svm\n",
    "from sklearn.metrics import classification_report"
   ]
  },
  {
   "cell_type": "code",
   "execution_count": 20,
   "metadata": {},
   "outputs": [
    {
     "data": {
      "text/plain": [
       "array([ 1.,  1.,  1.,  1.,  1.,  1., -1., -1., -1., -1.])"
      ]
     },
     "execution_count": 20,
     "metadata": {},
     "output_type": "execute_result"
    }
   ],
   "source": [
    "# Create the classifier model\n",
    "svm_model = svm.SVC()\n",
    " \n",
    "# Fit the model to the data using X_train_scaled and y_train\n",
    "svm_model = svm_model.fit(X_train_scaled, y_train)\n",
    "\n",
    "# Use the trained model to predict the trading signals for the training data\n",
    "training_signal_predictions = svm_model.predict(X_train_scaled)\n",
    "\n",
    "# Display the sample predictions\n",
    "training_signal_predictions[:10]"
   ]
  },
  {
   "cell_type": "code",
   "execution_count": 21,
   "metadata": {},
   "outputs": [
    {
     "name": "stdout",
     "output_type": "stream",
     "text": [
      "              precision    recall  f1-score   support\n",
      "\n",
      "        -1.0       0.52      0.55      0.53       843\n",
      "         1.0       0.52      0.48      0.50       837\n",
      "\n",
      "    accuracy                           0.52      1680\n",
      "   macro avg       0.52      0.52      0.52      1680\n",
      "weighted avg       0.52      0.52      0.52      1680\n",
      "\n"
     ]
    }
   ],
   "source": [
    "# Evaluate the model using a classification report\n",
    "training_report = classification_report(y_train, training_signal_predictions)\n",
    "print(training_report)"
   ]
  },
  {
   "cell_type": "code",
   "execution_count": 22,
   "metadata": {},
   "outputs": [
    {
     "data": {
      "text/plain": [
       "-1.0    901\n",
       " 1.0    779\n",
       "dtype: int64"
      ]
     },
     "execution_count": 22,
     "metadata": {},
     "output_type": "execute_result"
    }
   ],
   "source": [
    "pd.DataFrame([training_signal_predictions]).T.value_counts()"
   ]
  },
  {
   "cell_type": "markdown",
   "metadata": {},
   "source": [
    "---\n",
    "\n",
    "### Backtesting a Machine Learning Trading Algorithm"
   ]
  },
  {
   "cell_type": "code",
   "execution_count": 23,
   "metadata": {},
   "outputs": [],
   "source": [
    "# Use the trained model to predict the trading signals for the testing data.\n",
    "testing_signal_predictions = svm_model.predict(X_test_scaled)"
   ]
  },
  {
   "cell_type": "code",
   "execution_count": 24,
   "metadata": {},
   "outputs": [
    {
     "name": "stdout",
     "output_type": "stream",
     "text": [
      "              precision    recall  f1-score   support\n",
      "\n",
      "        -1.0       0.56      0.03      0.06      1580\n",
      "         1.0       0.50      0.97      0.66      1540\n",
      "\n",
      "    accuracy                           0.50      3120\n",
      "   macro avg       0.53      0.50      0.36      3120\n",
      "weighted avg       0.53      0.50      0.35      3120\n",
      "\n"
     ]
    }
   ],
   "source": [
    "# Evaluate the model's ability to predict the trading signal for the testing data\n",
    "svm_testing_report = classification_report(y_test, testing_signal_predictions)\n",
    "print(svm_testing_report)"
   ]
  },
  {
   "cell_type": "code",
   "execution_count": 25,
   "metadata": {},
   "outputs": [
    {
     "data": {
      "text/html": [
       "<div>\n",
       "<style scoped>\n",
       "    .dataframe tbody tr th:only-of-type {\n",
       "        vertical-align: middle;\n",
       "    }\n",
       "\n",
       "    .dataframe tbody tr th {\n",
       "        vertical-align: top;\n",
       "    }\n",
       "\n",
       "    .dataframe thead th {\n",
       "        text-align: right;\n",
       "    }\n",
       "</style>\n",
       "<table border=\"1\" class=\"dataframe\">\n",
       "  <thead>\n",
       "    <tr style=\"text-align: right;\">\n",
       "      <th></th>\n",
       "      <th>predicted_signal</th>\n",
       "      <th>actual_returns</th>\n",
       "      <th>trading_algorithm_returns</th>\n",
       "    </tr>\n",
       "    <tr>\n",
       "      <th>datetime</th>\n",
       "      <th></th>\n",
       "      <th></th>\n",
       "      <th></th>\n",
       "    </tr>\n",
       "  </thead>\n",
       "  <tbody>\n",
       "    <tr>\n",
       "      <th>2022-09-12 09:30:00</th>\n",
       "      <td>-1.0</td>\n",
       "      <td>-0.012989</td>\n",
       "      <td>0.012989</td>\n",
       "    </tr>\n",
       "    <tr>\n",
       "      <th>2022-09-12 09:35:00</th>\n",
       "      <td>-1.0</td>\n",
       "      <td>-0.000593</td>\n",
       "      <td>0.000593</td>\n",
       "    </tr>\n",
       "    <tr>\n",
       "      <th>2022-09-12 09:40:00</th>\n",
       "      <td>-1.0</td>\n",
       "      <td>-0.000830</td>\n",
       "      <td>0.000830</td>\n",
       "    </tr>\n",
       "    <tr>\n",
       "      <th>2022-09-12 09:45:00</th>\n",
       "      <td>-1.0</td>\n",
       "      <td>-0.003087</td>\n",
       "      <td>0.003087</td>\n",
       "    </tr>\n",
       "    <tr>\n",
       "      <th>2022-09-12 09:50:00</th>\n",
       "      <td>-1.0</td>\n",
       "      <td>0.006907</td>\n",
       "      <td>-0.006907</td>\n",
       "    </tr>\n",
       "  </tbody>\n",
       "</table>\n",
       "</div>"
      ],
      "text/plain": [
       "                     predicted_signal  actual_returns  \\\n",
       "datetime                                                \n",
       "2022-09-12 09:30:00              -1.0       -0.012989   \n",
       "2022-09-12 09:35:00              -1.0       -0.000593   \n",
       "2022-09-12 09:40:00              -1.0       -0.000830   \n",
       "2022-09-12 09:45:00              -1.0       -0.003087   \n",
       "2022-09-12 09:50:00              -1.0        0.006907   \n",
       "\n",
       "                     trading_algorithm_returns  \n",
       "datetime                                        \n",
       "2022-09-12 09:30:00                   0.012989  \n",
       "2022-09-12 09:35:00                   0.000593  \n",
       "2022-09-12 09:40:00                   0.000830  \n",
       "2022-09-12 09:45:00                   0.003087  \n",
       "2022-09-12 09:50:00                  -0.006907  "
      ]
     },
     "execution_count": 25,
     "metadata": {},
     "output_type": "execute_result"
    }
   ],
   "source": [
    "# Create a new empty predictions DataFrame using code provided below.\n",
    "predictions_df = pd.DataFrame(index=X_test.index)\n",
    "predictions_df[\"predicted_signal\"] = testing_signal_predictions\n",
    "predictions_df[\"actual_returns\"] = trading_df[\"actual_returns\"]\n",
    "predictions_df[\"trading_algorithm_returns\"] = predictions_df[\"actual_returns\"] * predictions_df[\"predicted_signal\"]\n",
    "predictions_df.head()"
   ]
  },
  {
   "cell_type": "code",
   "execution_count": 26,
   "metadata": {},
   "outputs": [
    {
     "data": {
      "text/plain": [
       "<AxesSubplot:xlabel='datetime'>"
      ]
     },
     "execution_count": 26,
     "metadata": {},
     "output_type": "execute_result"
    },
    {
     "data": {
      "image/png": "[encoded data removed]",
      "text/plain": [
       "<Figure size 432x288 with 1 Axes>"
      ]
     },
     "metadata": {
      "needs_background": "light"
     },
     "output_type": "display_data"
    }
   ],
   "source": [
    "# Calculate and plot the cumulative returns for the `actual_returns` and the `trading_algorithm_returns`\n",
    "(1 + predictions_df[[\"actual_returns\", \"trading_algorithm_returns\"]]).cumprod().plot()"
   ]
  },
  {
   "cell_type": "markdown",
   "metadata": {},
   "source": [
    "---\n",
    "\n",
    "# Add a New Machine Learning Model"
   ]
  },
  {
   "cell_type": "markdown",
   "metadata": {},
   "source": [
    "## Import the `LogisticRegression` model from scikit-learn.\n"
   ]
  },
  {
   "cell_type": "code",
   "execution_count": 27,
   "metadata": {},
   "outputs": [],
   "source": [
    "# Import LogisticRegression from sklearn\n",
    "from sklearn.linear_model import LogisticRegression"
   ]
  },
  {
   "cell_type": "code",
   "execution_count": 28,
   "metadata": {},
   "outputs": [],
   "source": [
    "# Create an instance of the LogisticRegression model\n",
    "logistic_regression_model = LogisticRegression()\n"
   ]
  },
  {
   "cell_type": "markdown",
   "metadata": {},
   "source": [
    "## Using the same training data that the SVM model used (`X_train_scaled` and `y_train`), fit the `LogisticRegression` model."
   ]
  },
  {
   "cell_type": "code",
   "execution_count": 29,
   "metadata": {},
   "outputs": [
    {
     "data": {
      "text/plain": [
       "LogisticRegression()"
      ]
     },
     "execution_count": 29,
     "metadata": {},
     "output_type": "execute_result"
    }
   ],
   "source": [
    "# Fit the LogisticRegression model\n",
    "logistic_regression_model.fit(X_train_scaled, y_train)\n"
   ]
  },
  {
   "cell_type": "markdown",
   "metadata": {},
   "source": [
    "## Use the trained model to predict the trading signals for the training data. Use the `classification_report` module to evaluate the model."
   ]
  },
  {
   "cell_type": "code",
   "execution_count": 30,
   "metadata": {},
   "outputs": [
    {
     "data": {
      "text/plain": [
       "array([-1., -1., -1., ..., -1., -1., -1.])"
      ]
     },
     "execution_count": 30,
     "metadata": {},
     "output_type": "execute_result"
    }
   ],
   "source": [
    "# Use the trained LogisticRegression model to predict the trading signals for the training data\n",
    "lr_training_signal_predictions =  logistic_regression_model.predict(X_train_scaled)\n",
    "\n",
    "# Display the predictions\n",
    "lr_training_signal_predictions\n"
   ]
  },
  {
   "cell_type": "code",
   "execution_count": 31,
   "metadata": {},
   "outputs": [
    {
     "name": "stdout",
     "output_type": "stream",
     "text": [
      "              precision    recall  f1-score   support\n",
      "\n",
      "        -1.0       0.51      0.55      0.53       843\n",
      "         1.0       0.51      0.47      0.49       837\n",
      "\n",
      "    accuracy                           0.51      1680\n",
      "   macro avg       0.51      0.51      0.51      1680\n",
      "weighted avg       0.51      0.51      0.51      1680\n",
      "\n"
     ]
    }
   ],
   "source": [
    "# Generate a classification report using the training data and the logistic regression model's predications\n",
    "lr_training_report = classification_report(y_train, lr_training_signal_predictions)\n",
    "\n",
    "# Review the classification report\n",
    "print(lr_training_report)\n"
   ]
  },
  {
   "cell_type": "markdown",
   "metadata": {},
   "source": [
    "## Backtest the `LogisticRegression` model using the testing data to evaluate its performance."
   ]
  },
  {
   "cell_type": "code",
   "execution_count": 32,
   "metadata": {},
   "outputs": [],
   "source": [
    "# Use the trained model to predict the trading signals for the testing data.\n",
    "lr_testing_signal_predictions = logistic_regression_model.predict(X_test_scaled)"
   ]
  },
  {
   "cell_type": "code",
   "execution_count": 33,
   "metadata": {},
   "outputs": [
    {
     "name": "stdout",
     "output_type": "stream",
     "text": [
      "              precision    recall  f1-score   support\n",
      "\n",
      "        -1.0       0.50      0.97      0.66      1580\n",
      "         1.0       0.42      0.02      0.05      1540\n",
      "\n",
      "    accuracy                           0.50      3120\n",
      "   macro avg       0.46      0.50      0.35      3120\n",
      "weighted avg       0.46      0.50      0.36      3120\n",
      "\n"
     ]
    }
   ],
   "source": [
    "# Generate a classification report using the testing data and the logistic regression model's predications\n",
    "lr_testing_report = classification_report(y_test, lr_testing_signal_predictions)\n",
    "\n",
    "# Review the testing classification report\n",
    "print(lr_testing_report)"
   ]
  },
  {
   "cell_type": "markdown",
   "metadata": {},
   "source": [
    "## Compare the performance of the logistic regression and SVM models using the classification reports generated with the testing data. "
   ]
  },
  {
   "cell_type": "code",
   "execution_count": 34,
   "metadata": {},
   "outputs": [
    {
     "name": "stdout",
     "output_type": "stream",
     "text": [
      "Logistic Regression Classification Report\n",
      "              precision    recall  f1-score   support\n",
      "\n",
      "        -1.0       0.50      0.97      0.66      1580\n",
      "         1.0       0.42      0.02      0.05      1540\n",
      "\n",
      "    accuracy                           0.50      3120\n",
      "   macro avg       0.46      0.50      0.35      3120\n",
      "weighted avg       0.46      0.50      0.36      3120\n",
      "\n"
     ]
    }
   ],
   "source": [
    "# Print the classification report for the SVM model using the test data\n",
    "print(\"Logistic Regression Classification Report\")\n",
    "print(lr_testing_report)\n"
   ]
  },
  {
   "cell_type": "code",
   "execution_count": 35,
   "metadata": {},
   "outputs": [
    {
     "name": "stdout",
     "output_type": "stream",
     "text": [
      "SVM Classification Report\n",
      "              precision    recall  f1-score   support\n",
      "\n",
      "        -1.0       0.56      0.03      0.06      1580\n",
      "         1.0       0.50      0.97      0.66      1540\n",
      "\n",
      "    accuracy                           0.50      3120\n",
      "   macro avg       0.53      0.50      0.36      3120\n",
      "weighted avg       0.53      0.50      0.35      3120\n",
      "\n"
     ]
    }
   ],
   "source": [
    "# Print the classification report for the SVM model using the test data\n",
    "print(\"SVM Classification Report\")\n",
    "print(svm_testing_report)\n"
   ]
  },
  {
   "cell_type": "markdown",
   "metadata": {},
   "source": [
    "### Answer the following question:"
   ]
  },
  {
   "cell_type": "markdown",
   "metadata": {},
   "source": [
    "**Question:** Did the `LogisticRegression` perform better than the `SVM`?\n",
    "\n",
    "**Answer:** Maybe. The logistic regression model performs a bit better than the SVM model since it has a higher accuracy score. However, the SVM model does a better job predicting profitable short opportunities, as evidenced by its higher recall score on the -1.0 class. Ultimately, which model is best may depend on which class we care most about predicting, as well as which has better overall economic returns compared to a long-only investment."
   ]
  },
  {
   "cell_type": "code",
   "execution_count": null,
   "metadata": {},
   "outputs": [],
   "source": []
  },
  {
   "cell_type": "code",
   "execution_count": null,
   "metadata": {},
   "outputs": [],
   "source": []
  }
 ],
 "metadata": {
  "kernelspec": {
   "display_name": "Python 3 (ipykernel)",
   "language": "python",
   "name": "python3"
  },
  "language_info": {
   "codemirror_mode": {
    "name": "ipython",
    "version": 3
   },
   "file_extension": ".py",
   "mimetype": "text/x-python",
   "name": "python",
   "nbconvert_exporter": "python",
   "pygments_lexer": "ipython3",
   "version": "3.7.11"
  }
 },
 "nbformat": 4,
 "nbformat_minor": 4
}
